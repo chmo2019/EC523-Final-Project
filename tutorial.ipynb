{
  "nbformat": 4,
  "nbformat_minor": 0,
  "metadata": {
    "colab": {
      "name": "tutorial.ipynb",
      "provenance": [],
      "collapsed_sections": [],
      "mount_file_id": "1sJJhYnJCGim6DMDIIBOFL04rQti0cKoH",
      "authorship_tag": "ABX9TyPy6uSwZEgprlON1DBrzPGl",
      "include_colab_link": true
    },
    "kernelspec": {
      "name": "python3",
      "display_name": "Python 3"
    },
    "language_info": {
      "name": "python"
    },
    "accelerator": "GPU"
  },
  "cells": [
    {
      "cell_type": "markdown",
      "metadata": {
        "id": "view-in-github",
        "colab_type": "text"
      },
      "source": [
        "<a href=\"https://colab.research.google.com/github/chmo2019/EC523-Final-Project/blob/main/tutorial.ipynb\" target=\"_parent\"><img src=\"https://colab.research.google.com/assets/colab-badge.svg\" alt=\"Open In Colab\"/></a>"
      ]
    },
    {
      "cell_type": "code",
      "source": [
        "# clone repo\n",
        "!git clone https://github.com/chmo2019/EC523-Final-Project"
      ],
      "metadata": {
        "colab": {
          "base_uri": "https://localhost:8080/"
        },
        "id": "7RvWM7i1CWrX",
        "outputId": "4cbe9d1d-d83c-4ed2-d133-3ceb5976369a"
      },
      "execution_count": 1,
      "outputs": [
        {
          "output_type": "stream",
          "name": "stdout",
          "text": [
            "Cloning into 'EC523-Final-Project'...\n",
            "remote: Enumerating objects: 175, done.\u001b[K\n",
            "remote: Counting objects: 100% (175/175), done.\u001b[K\n",
            "remote: Compressing objects: 100% (160/160), done.\u001b[K\n",
            "remote: Total 175 (delta 95), reused 33 (delta 6), pack-reused 0\u001b[K\n",
            "Receiving objects: 100% (175/175), 4.43 MiB | 3.37 MiB/s, done.\n",
            "Resolving deltas: 100% (95/95), done.\n"
          ]
        }
      ]
    },
    {
      "cell_type": "code",
      "source": [
        "# optional: pull changes\n",
        "# !git pull"
      ],
      "metadata": {
        "id": "K_3m7XvT7hVp"
      },
      "execution_count": 2,
      "outputs": []
    },
    {
      "cell_type": "code",
      "source": [
        "# navigate to source directory\n",
        "%cd EC523-Final-Project/"
      ],
      "metadata": {
        "colab": {
          "base_uri": "https://localhost:8080/"
        },
        "id": "D5q_B69tyFtD",
        "outputId": "38760697-5f76-4cdd-b865-201d0e5c7799"
      },
      "execution_count": 1,
      "outputs": [
        {
          "output_type": "stream",
          "name": "stdout",
          "text": [
            "/content/EC523-Final-Project\n"
          ]
        }
      ]
    },
    {
      "cell_type": "code",
      "source": [
        "# fetch hdf5 dataset\n",
        "!chmod +x fetch.sh\n",
        "# !./fetch.sh"
      ],
      "metadata": {
        "id": "ezhIVP9oqAV-"
      },
      "execution_count": 3,
      "outputs": []
    },
    {
      "cell_type": "code",
      "source": [
        "# fetch dataset if it doesn't already exist\n",
        "import subprocess\n",
        "import os\n",
        "\n",
        "if not os.path.exists('./SEP28K.hdf5'):\n",
        "  subprocess.run([\"./fetch.sh\"], shell=True)"
      ],
      "metadata": {
        "id": "R8YhVhXTX_RT"
      },
      "execution_count": 4,
      "outputs": []
    },
    {
      "cell_type": "code",
      "source": [
        "# import necessary packages\n",
        "from StutterNet import ResNet1D, train, StutterLoss, SEP28KDataset,sigmoid\n",
        "import numpy as np\n",
        "import torch\n",
        "import h5py\n",
        "import matplotlib.pyplot as plt\n",
        "from sklearn.metrics import classification_report, hamming_loss\n",
        "import torchaudio as audio\n",
        "from torch import nn\n",
        "from torchvision.transforms import RandomApply"
      ],
      "metadata": {
        "id": "R-rbQ5bGzV3i"
      },
      "execution_count": 5,
      "outputs": []
    },
    {
      "cell_type": "code",
      "source": [
        "torch.backends.cudnn.benchmark = True"
      ],
      "metadata": {
        "id": "iNNU0HbArhVd"
      },
      "execution_count": 30,
      "outputs": []
    },
    {
      "cell_type": "code",
      "source": [
        "# read the hdf5 dataset\n",
        "f = h5py.File(\"SEP28K.hdf5\", 'r')\n",
        "\n",
        "# create train, test, validation splits\n",
        "trainX, trainY, testX, testY, validX, validY = f['trainX'], f['trainY'], f['testX'], f['testY'], f['validX'], f['validY']\n",
        "\n",
        "# free up dataset\n",
        "del f"
      ],
      "metadata": {
        "id": "BBc1jvOGIa6k"
      },
      "execution_count": 6,
      "outputs": []
    },
    {
      "cell_type": "code",
      "source": [
        "# create required transforms\n",
        "spec = audio.transforms.MelSpectrogram(n_mels=80, sample_rate=16000,\n",
        "                                              n_fft=512, f_max=8000, f_min=0,\n",
        "                                              power=0.5, hop_length=152, win_length=480)\n",
        "db = audio.transforms.AmplitudeToDB()\n",
        "transforms = torch.jit.script(nn.Sequential(spec, db))"
      ],
      "metadata": {
        "id": "J75rM0uumFGI"
      },
      "execution_count": 33,
      "outputs": []
    },
    {
      "cell_type": "code",
      "source": [
        "# print transforms\n",
        "print(transforms)"
      ],
      "metadata": {
        "colab": {
          "base_uri": "https://localhost:8080/"
        },
        "id": "7AStJGv7oa86",
        "outputId": "f4e31766-c1d0-4dc2-d5d5-0dc185a57e05"
      },
      "execution_count": 18,
      "outputs": [
        {
          "output_type": "stream",
          "name": "stdout",
          "text": [
            "Sequential(\n",
            "  (0): MelSpectrogram(\n",
            "    (spectrogram): Spectrogram()\n",
            "    (mel_scale): MelScale()\n",
            "  )\n",
            "  (1): AmplitudeToDB()\n",
            ")\n"
          ]
        }
      ]
    },
    {
      "cell_type": "code",
      "source": [
        "# create torch dataset object(s)\n",
        "train_ds = SEP28KDataset(trainX, trainY, transform=transforms)\n",
        "test_ds = SEP28KDataset(testX, testY, transform=transforms)\n",
        "valid_ds = SEP28KDataset(validX, validY, transform=transforms)"
      ],
      "metadata": {
        "id": "TE75Jliwyzgr"
      },
      "execution_count": 34,
      "outputs": []
    },
    {
      "cell_type": "code",
      "source": [
        "# print number of data points per split\n",
        "print(\"size of train set: \", len(train_ds))\n",
        "print(\"size of test set: \", len(test_ds))\n",
        "print(\"size of val set: \", len(valid_ds))\n",
        "print(\"total number of audio clips: \", len(train_ds) + len(test_ds) + len(valid_ds))"
      ],
      "metadata": {
        "colab": {
          "base_uri": "https://localhost:8080/"
        },
        "id": "LDBqFH2qJ1QC",
        "outputId": "281f9669-8e55-4288-af4b-c3169303e724"
      },
      "execution_count": 35,
      "outputs": [
        {
          "output_type": "stream",
          "name": "stdout",
          "text": [
            "size of train set:  22537\n",
            "size of test set:  2823\n",
            "size of val set:  2817\n",
            "total number of audio clips:  28177\n"
          ]
        }
      ]
    },
    {
      "cell_type": "code",
      "source": [
        "# visualize a mel spectrogram\n",
        "import matplotlib.pyplot as plt\n",
        "plt.imshow(train_ds[0][0])"
      ],
      "metadata": {
        "colab": {
          "base_uri": "https://localhost:8080/",
          "height": 211
        },
        "id": "y5F-M6D4zCJk",
        "outputId": "5e223281-fb6d-42ff-c547-e697b21dea4c"
      },
      "execution_count": 22,
      "outputs": [
        {
          "output_type": "stream",
          "name": "stderr",
          "text": [
            "/content/EC523-Final-Project/StutterNet/io.py:67: UserWarning: To copy construct from a tensor, it is recommended to use sourceTensor.clone().detach() or sourceTensor.clone().detach().requires_grad_(True), rather than torch.tensor(sourceTensor).\n",
            "  return torch.tensor(wav).clone().detach(), torch.tensor(labels).clone().detach()\n"
          ]
        },
        {
          "output_type": "execute_result",
          "data": {
            "text/plain": [
              "<matplotlib.image.AxesImage at 0x7f2ece1ab490>"
            ]
          },
          "metadata": {},
          "execution_count": 22
        },
        {
          "output_type": "display_data",
          "data": {
            "text/plain": [
              "<Figure size 432x288 with 1 Axes>"
            ],
            "image/png": "[encoded data removed]"
          },
          "metadata": {
            "needs_background": "light"
          }
        }
      ]
    },
    {
      "cell_type": "code",
      "source": [
        "# fetch class labels\n",
        "names = np.loadtxt('classes.txt', dtype=str)"
      ],
      "metadata": {
        "id": "1pxzjnic7mDW"
      },
      "execution_count": 12,
      "outputs": []
    },
    {
      "cell_type": "code",
      "source": [
        "# convert labels to list\n",
        "names = names.tolist()"
      ],
      "metadata": {
        "id": "SXajSCKA7yJa"
      },
      "execution_count": 13,
      "outputs": []
    },
    {
      "cell_type": "code",
      "source": [
        "# create torch data loaders\n",
        "train_loader = torch.utils.data.DataLoader(train_ds, batch_size=64, shuffle=True, num_workers=2, pin_memory=True)\n",
        "val_loader = torch.utils.data.DataLoader(valid_ds, batch_size=64, shuffle=False, num_workers=2, pin_memory=True)\n",
        "test_loader = torch.utils.data.DataLoader(test_ds, batch_size=64, shuffle=False, num_workers=2, pin_memory=True)"
      ],
      "metadata": {
        "id": "o2x0514Bzk8V"
      },
      "execution_count": 27,
      "outputs": []
    },
    {
      "cell_type": "code",
      "source": [
        "# get device\n",
        "device = torch.device('cuda:0' if torch.cuda.is_available() else 'cpu') # get device"
      ],
      "metadata": {
        "id": "G-BevooVJIfd"
      },
      "execution_count": 15,
      "outputs": []
    },
    {
      "cell_type": "code",
      "source": [
        "# initialize and train our network w/ CCC + Focal Loss and SGD\n",
        "EPOCHS = 50\n",
        "steps_per_epoch = len(train_ds) //  64\n",
        "net = ResNet1D(80, kernel_size=21).to(device)\n",
        "criterion = StutterLoss()\n",
        "optimizer = torch.optim.SGD(net.parameters(), lr=0.00001, momentum=0.9)\n",
        "scheduler = torch.optim.lr_scheduler.OneCycleLR(optimizer, max_lr=0.1, steps_per_epoch=steps_per_epoch, \n",
        "                                                epochs=EPOCHS, div_factor=10000, cycle_momentum=False,\n",
        "                                                pct_start=0.1, anneal_strategy='cos')\n",
        "train(net, train_loader, criterion, 64, names, validationloader=val_loader, optimizer=optimizer, scheduler=scheduler, epochs=EPOCHS)"
      ],
      "metadata": {
        "id": "MydTDIWg0E9m",
        "colab": {
          "base_uri": "https://localhost:8080/",
          "height": 1000
        },
        "outputId": "a39d7df2-443f-402d-b1bd-f7a796e1cf76"
      },
      "execution_count": 36,
      "outputs": [
        {
          "output_type": "stream",
          "name": "stdout",
          "text": [
            "\n",
            "epoch 1/50\n"
          ]
        },
        {
          "output_type": "stream",
          "name": "stderr",
          "text": [
            "/content/EC523-Final-Project/StutterNet/io.py:67: UserWarning: To copy construct from a tensor, it is recommended to use sourceTensor.clone().detach() or sourceTensor.clone().detach().requires_grad_(True), rather than torch.tensor(sourceTensor).\n",
            "  return torch.tensor(wav).clone().detach(), torch.tensor(labels).clone().detach()\n",
            "/content/EC523-Final-Project/StutterNet/io.py:67: UserWarning: To copy construct from a tensor, it is recommended to use sourceTensor.clone().detach() or sourceTensor.clone().detach().requires_grad_(True), rather than torch.tensor(sourceTensor).\n",
            "  return torch.tensor(wav).clone().detach(), torch.tensor(labels).clone().detach()\n"
          ]
        },
        {
          "output_type": "stream",
          "name": "stdout",
          "text": [
            "351/353 [============================>.] - ETA: 0s - loss: 0.9168"
          ]
        },
        {
          "output_type": "stream",
          "name": "stderr",
          "text": [
            "/usr/local/lib/python3.7/dist-packages/sklearn/metrics/_classification.py:1318: UndefinedMetricWarning: Precision and F-score are ill-defined and being set to 0.0 in samples with no predicted labels. Use `zero_division` parameter to control this behavior.\n",
            "  _warn_prf(average, modifier, msg_start, len(result))\n",
            "/usr/local/lib/python3.7/dist-packages/sklearn/metrics/_classification.py:1318: UndefinedMetricWarning: Recall and F-score are ill-defined and being set to 0.0 in samples with no true labels. Use `zero_division` parameter to control this behavior.\n",
            "  _warn_prf(average, modifier, msg_start, len(result))\n",
            "/content/EC523-Final-Project/StutterNet/io.py:67: UserWarning: To copy construct from a tensor, it is recommended to use sourceTensor.clone().detach() or sourceTensor.clone().detach().requires_grad_(True), rather than torch.tensor(sourceTensor).\n",
            "  return torch.tensor(wav).clone().detach(), torch.tensor(labels).clone().detach()\n",
            "/content/EC523-Final-Project/StutterNet/io.py:67: UserWarning: To copy construct from a tensor, it is recommended to use sourceTensor.clone().detach() or sourceTensor.clone().detach().requires_grad_(True), rather than torch.tensor(sourceTensor).\n",
            "  return torch.tensor(wav).clone().detach(), torch.tensor(labels).clone().detach()\n"
          ]
        },
        {
          "output_type": "stream",
          "name": "stdout",
          "text": [
            "                       precision    recall  f1-score   support\n",
            "\n",
            "     PoorAudioQuality       0.00      0.00      0.00        58\n",
            "               Unsure       0.00      0.00      0.00         2\n",
            "DifficultToUnderstand       0.00      0.00      0.00       106\n",
            "         NaturalPause       0.00      0.00      0.00       230\n",
            "                Music       0.00      0.00      0.00        30\n",
            "             NoSpeech       0.00      0.00      0.00        32\n",
            "         Prolongation       0.10      0.98      0.18       279\n",
            "                Block       0.14      0.85      0.24       330\n",
            "             SoundRep       0.08      1.00      0.15       228\n",
            "              WordRep       0.12      0.86      0.21       274\n",
            "         Interjection       0.21      1.00      0.35       583\n",
            "     NoStutteredWords       0.65      0.60      0.62      1618\n",
            "\n",
            "            micro avg       0.19      0.68      0.29      3770\n",
            "            macro avg       0.11      0.44      0.15      3770\n",
            "         weighted avg       0.35      0.68      0.38      3770\n",
            "          samples avg       0.18      0.65      0.27      3770\n",
            "\n",
            "\b\b\b\b\b\b\b\b\b\b\b\b\b\b\b\b\b\b\b\b\b\b\b\b\b\b\b\b\b\b\b\b\b\b\b\b\b\b\b\b\b\b\b\b\b\b\b\b\b\b\b\b\b\b\b\b\b\b\b\b\b\b\b\b\b\r353/353 [==============================] - 62s 173ms/step - loss: 0.9170 - val_loss: 0.9819\n",
            "\n",
            "epoch 2/50\n"
          ]
        },
        {
          "output_type": "stream",
          "name": "stderr",
          "text": [
            "/usr/local/lib/python3.7/dist-packages/sklearn/metrics/_classification.py:1318: UndefinedMetricWarning: Precision and F-score are ill-defined and being set to 0.0 in labels with no predicted samples. Use `zero_division` parameter to control this behavior.\n",
            "  _warn_prf(average, modifier, msg_start, len(result))\n",
            "/usr/local/lib/python3.7/dist-packages/sklearn/metrics/_classification.py:1318: UndefinedMetricWarning: Precision and F-score are ill-defined and being set to 0.0 in samples with no predicted labels. Use `zero_division` parameter to control this behavior.\n",
            "  _warn_prf(average, modifier, msg_start, len(result))\n",
            "/usr/local/lib/python3.7/dist-packages/sklearn/metrics/_classification.py:1318: UndefinedMetricWarning: Recall and F-score are ill-defined and being set to 0.0 in samples with no true labels. Use `zero_division` parameter to control this behavior.\n",
            "  _warn_prf(average, modifier, msg_start, len(result))\n",
            "/usr/local/lib/python3.7/dist-packages/sklearn/metrics/_classification.py:1318: UndefinedMetricWarning: Precision and F-score are ill-defined and being set to 0.0 in labels with no predicted samples. Use `zero_division` parameter to control this behavior.\n",
            "  _warn_prf(average, modifier, msg_start, len(result))\n",
            "/usr/local/lib/python3.7/dist-packages/sklearn/metrics/_classification.py:1318: UndefinedMetricWarning: Precision and F-score are ill-defined and being set to 0.0 in samples with no predicted labels. Use `zero_division` parameter to control this behavior.\n",
            "  _warn_prf(average, modifier, msg_start, len(result))\n",
            "/usr/local/lib/python3.7/dist-packages/sklearn/metrics/_classification.py:1318: UndefinedMetricWarning: Recall and F-score are ill-defined and being set to 0.0 in samples with no true labels. Use `zero_division` parameter to control this behavior.\n",
            "  _warn_prf(average, modifier, msg_start, len(result))\n",
            "/content/EC523-Final-Project/StutterNet/io.py:67: UserWarning: To copy construct from a tensor, it is recommended to use sourceTensor.clone().detach() or sourceTensor.clone().detach().requires_grad_(True), rather than torch.tensor(sourceTensor).\n",
            "  return torch.tensor(wav).clone().detach(), torch.tensor(labels).clone().detach()\n",
            "/content/EC523-Final-Project/StutterNet/io.py:67: UserWarning: To copy construct from a tensor, it is recommended to use sourceTensor.clone().detach() or sourceTensor.clone().detach().requires_grad_(True), rather than torch.tensor(sourceTensor).\n",
            "  return torch.tensor(wav).clone().detach(), torch.tensor(labels).clone().detach()\n"
          ]
        },
        {
          "output_type": "stream",
          "name": "stdout",
          "text": [
            " 40/353 [==>...........................] - ETA: 40s - loss: 0.8704"
          ]
        },
        {
          "output_type": "error",
          "ename": "KeyboardInterrupt",
          "evalue": "ignored",
          "traceback": [
            "\u001b[0;31m---------------------------------------------------------------------------\u001b[0m",
            "\u001b[0;31mKeyboardInterrupt\u001b[0m                         Traceback (most recent call last)",
            "\u001b[0;32m<ipython-input-36-c4f3e5b71a5b>\u001b[0m in \u001b[0;36m<module>\u001b[0;34m()\u001b[0m\n\u001b[1;32m      8\u001b[0m                                                 \u001b[0mepochs\u001b[0m\u001b[0;34m=\u001b[0m\u001b[0mEPOCHS\u001b[0m\u001b[0;34m,\u001b[0m \u001b[0mdiv_factor\u001b[0m\u001b[0;34m=\u001b[0m\u001b[0;36m10000\u001b[0m\u001b[0;34m,\u001b[0m \u001b[0mcycle_momentum\u001b[0m\u001b[0;34m=\u001b[0m\u001b[0;32mFalse\u001b[0m\u001b[0;34m,\u001b[0m\u001b[0;34m\u001b[0m\u001b[0;34m\u001b[0m\u001b[0m\n\u001b[1;32m      9\u001b[0m                                                 pct_start=0.1, anneal_strategy='cos')\n\u001b[0;32m---> 10\u001b[0;31m \u001b[0mtrain\u001b[0m\u001b[0;34m(\u001b[0m\u001b[0mnet\u001b[0m\u001b[0;34m,\u001b[0m \u001b[0mtrain_loader\u001b[0m\u001b[0;34m,\u001b[0m \u001b[0mcriterion\u001b[0m\u001b[0;34m,\u001b[0m \u001b[0;36m64\u001b[0m\u001b[0;34m,\u001b[0m \u001b[0mnames\u001b[0m\u001b[0;34m,\u001b[0m \u001b[0mvalidationloader\u001b[0m\u001b[0;34m=\u001b[0m\u001b[0mval_loader\u001b[0m\u001b[0;34m,\u001b[0m \u001b[0moptimizer\u001b[0m\u001b[0;34m=\u001b[0m\u001b[0moptimizer\u001b[0m\u001b[0;34m,\u001b[0m \u001b[0mscheduler\u001b[0m\u001b[0;34m=\u001b[0m\u001b[0mscheduler\u001b[0m\u001b[0;34m,\u001b[0m \u001b[0mepochs\u001b[0m\u001b[0;34m=\u001b[0m\u001b[0mEPOCHS\u001b[0m\u001b[0;34m)\u001b[0m\u001b[0;34m\u001b[0m\u001b[0;34m\u001b[0m\u001b[0m\n\u001b[0m",
            "\u001b[0;32m/content/EC523-Final-Project/StutterNet/train.py\u001b[0m in \u001b[0;36mtrain\u001b[0;34m(net, trainloader, criterion, batch_size, target_names, validationloader, optimizer, scheduler, epochs, logdir, metrics, verbose, tuner, checkpoint_dir)\u001b[0m\n\u001b[1;32m    102\u001b[0m         \u001b[0moptimizer\u001b[0m\u001b[0;34m.\u001b[0m\u001b[0mstep\u001b[0m\u001b[0;34m(\u001b[0m\u001b[0;34m)\u001b[0m\u001b[0;34m\u001b[0m\u001b[0;34m\u001b[0m\u001b[0m\n\u001b[1;32m    103\u001b[0m \u001b[0;34m\u001b[0m\u001b[0m\n\u001b[0;32m--> 104\u001b[0;31m         \u001b[0my_true\u001b[0m\u001b[0;34m[\u001b[0m\u001b[0midx\u001b[0m\u001b[0;34m:\u001b[0m\u001b[0midx\u001b[0m\u001b[0;34m+\u001b[0m\u001b[0moutputs\u001b[0m\u001b[0;34m.\u001b[0m\u001b[0mshape\u001b[0m\u001b[0;34m[\u001b[0m\u001b[0;36m0\u001b[0m\u001b[0;34m]\u001b[0m\u001b[0;34m,\u001b[0m \u001b[0;34m:\u001b[0m\u001b[0;34m]\u001b[0m \u001b[0;34m=\u001b[0m \u001b[0mlabels\u001b[0m\u001b[0;34m.\u001b[0m\u001b[0mdetach\u001b[0m\u001b[0;34m(\u001b[0m\u001b[0;34m)\u001b[0m\u001b[0;34m.\u001b[0m\u001b[0mcpu\u001b[0m\u001b[0;34m(\u001b[0m\u001b[0;34m)\u001b[0m\u001b[0;34m.\u001b[0m\u001b[0mnumpy\u001b[0m\u001b[0;34m(\u001b[0m\u001b[0;34m)\u001b[0m\u001b[0;34m\u001b[0m\u001b[0;34m\u001b[0m\u001b[0m\n\u001b[0m\u001b[1;32m    105\u001b[0m         \u001b[0my_pred\u001b[0m\u001b[0;34m[\u001b[0m\u001b[0midx\u001b[0m\u001b[0;34m:\u001b[0m\u001b[0midx\u001b[0m\u001b[0;34m+\u001b[0m\u001b[0moutputs\u001b[0m\u001b[0;34m.\u001b[0m\u001b[0mshape\u001b[0m\u001b[0;34m[\u001b[0m\u001b[0;36m0\u001b[0m\u001b[0;34m]\u001b[0m\u001b[0;34m,\u001b[0m \u001b[0;34m:\u001b[0m\u001b[0;34m]\u001b[0m \u001b[0;34m=\u001b[0m \u001b[0moutputs\u001b[0m\u001b[0;34m.\u001b[0m\u001b[0mdetach\u001b[0m\u001b[0;34m(\u001b[0m\u001b[0;34m)\u001b[0m\u001b[0;34m.\u001b[0m\u001b[0mcpu\u001b[0m\u001b[0;34m(\u001b[0m\u001b[0;34m)\u001b[0m\u001b[0;34m.\u001b[0m\u001b[0mnumpy\u001b[0m\u001b[0;34m(\u001b[0m\u001b[0;34m)\u001b[0m\u001b[0;34m\u001b[0m\u001b[0;34m\u001b[0m\u001b[0m\n\u001b[1;32m    106\u001b[0m \u001b[0;34m\u001b[0m\u001b[0m\n",
            "\u001b[0;31mKeyboardInterrupt\u001b[0m: "
          ]
        }
      ]
    },
    {
      "cell_type": "code",
      "source": [
        "# prediction and groundtruth placeholders\n",
        "preds = np.zeros((len(test_ds), 12))\n",
        "gt = np.zeros((len(test_ds), 12))\n",
        "\n",
        "# prediction counter\n",
        "idx = 0\n",
        "\n",
        "# set model to evaluation mode\n",
        "net.eval()\n",
        "\n",
        "# perform inference\n",
        "for data in iter(test_loader):\n",
        "  # get features and labels\n",
        "  inputs, labels = data[0].to(device), data[1].detach().cpu().numpy()\n",
        "\n",
        "  # get predictions\n",
        "  outputs = net(inputs).detach().cpu().numpy()\n",
        "\n",
        "  # get batch size\n",
        "  batch_size = outputs.shape[0]\n",
        "  \n",
        "  # store predictions and labels\n",
        "  preds[idx:idx+batch_size, :] = outputs\n",
        "  gt[idx:idx+batch_size, :] = labels\n",
        "\n",
        "  # increment counter\n",
        "  idx += batch_size\n",
        "\n",
        "# print metrics\n",
        "preds = (sigmoid(preds) > 0.5).astype('int')\n",
        "gt = gt.astype('int')\n",
        "print(classification_report(gt, preds, target_names=names, zero_division=1))\n",
        "print(\"Multilabel Accuracy: {:.2f}\".format(1-hamming_loss(gt, preds)))"
      ],
      "metadata": {
        "colab": {
          "base_uri": "https://localhost:8080/"
        },
        "id": "2urVdULw1ix1",
        "outputId": "0da3188e-d8e2-4efc-b7d5-84c812f88303"
      },
      "execution_count": 37,
      "outputs": [
        {
          "output_type": "stream",
          "name": "stderr",
          "text": [
            "/content/EC523-Final-Project/StutterNet/io.py:67: UserWarning: To copy construct from a tensor, it is recommended to use sourceTensor.clone().detach() or sourceTensor.clone().detach().requires_grad_(True), rather than torch.tensor(sourceTensor).\n",
            "  return torch.tensor(wav).clone().detach(), torch.tensor(labels).clone().detach()\n",
            "/content/EC523-Final-Project/StutterNet/io.py:67: UserWarning: To copy construct from a tensor, it is recommended to use sourceTensor.clone().detach() or sourceTensor.clone().detach().requires_grad_(True), rather than torch.tensor(sourceTensor).\n",
            "  return torch.tensor(wav).clone().detach(), torch.tensor(labels).clone().detach()\n"
          ]
        },
        {
          "output_type": "stream",
          "name": "stdout",
          "text": [
            "                       precision    recall  f1-score   support\n",
            "\n",
            "     PoorAudioQuality       1.00      0.00      0.00        59\n",
            "               Unsure       1.00      0.00      0.00         3\n",
            "DifficultToUnderstand       1.00      0.00      0.00        99\n",
            "         NaturalPause       1.00      0.00      0.00       240\n",
            "                Music       1.00      0.00      0.00        31\n",
            "             NoSpeech       1.00      0.00      0.00        29\n",
            "         Prolongation       0.20      0.52      0.29       264\n",
            "                Block       0.13      0.79      0.23       336\n",
            "             SoundRep       0.08      1.00      0.15       225\n",
            "              WordRep       0.10      1.00      0.19       289\n",
            "         Interjection       0.34      0.72      0.46       597\n",
            "     NoStutteredWords       0.60      0.91      0.72      1616\n",
            "\n",
            "            micro avg       0.23      0.75      0.36      3788\n",
            "            macro avg       0.62      0.41      0.17      3788\n",
            "         weighted avg       0.47      0.75      0.44      3788\n",
            "          samples avg       0.23      0.80      0.35      3788\n",
            "\n",
            "Multilabel Accuracy: 0.70\n"
          ]
        }
      ]
    }
  ]
}